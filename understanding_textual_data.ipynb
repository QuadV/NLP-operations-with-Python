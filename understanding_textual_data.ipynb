{
 "cells": [
  {
   "cell_type": "code",
   "execution_count": 1,
   "metadata": {},
   "outputs": [],
   "source": [
    "# Count the number of unique tokens in the text\n",
    "\n",
    "# Count the number of punctuation characters\n",
    "\n",
    "# Plot the distribution of each POS Tag using a barplot\n",
    "\n",
    "# Determine the number of unique lemma available in the text\n",
    "\n",
    "# Plot the distribution of stopwords used in the text using barplot"
   ]
  },
  {
   "cell_type": "code",
   "execution_count": 18,
   "metadata": {},
   "outputs": [],
   "source": [
    "import nltk\n",
    "from nltk import *\n",
    "from string import punctuation\n",
    "from nltk.corpus import stopwords\n",
    "from nltk.stem.wordnet import WordNetLemmatizer\n",
    "import matplotlib.pyplot as plt"
   ]
  },
  {
   "cell_type": "code",
   "execution_count": 3,
   "metadata": {},
   "outputs": [
    {
     "name": "stdout",
     "output_type": "stream",
     "text": [
      "The number of unique tokens in the text: 174\n",
      "The number of punctuation characters: 2\n"
     ]
    }
   ],
   "source": [
    "input_file = \"sample1.txt\"\n",
    "with open(input_file, 'r') as f_in:\n",
    "    data = f_in.read()\n",
    "# print(data)\n",
    "# tokenize\n",
    "tokens = set(nltk.word_tokenize(data))\n",
    "# Count the number of unique tokens in the text\n",
    "print(f\"The number of unique tokens in the text: {len(tokens)}\")\n",
    "\n",
    "# Count the number of punctuation characters\n",
    "punctuations = []\n",
    "vocab = []\n",
    "for token in tokens:\n",
    "    if token in punctuation:\n",
    "        punctuations.append(token)\n",
    "    else:\n",
    "        vocab.append(token)\n",
    "print(f\"The number of punctuation characters: {len(punctuations)}\")\n"
   ]
  },
  {
   "cell_type": "code",
   "execution_count": 32,
   "metadata": {},
   "outputs": [
    {
     "name": "stdout",
     "output_type": "stream",
     "text": [
      "[('Jimmy', 'NNP'), ('cop', 'NN'), ('than', 'IN'), ('subject', 'JJ'), ('readers', 'NNS'), ('Washington', 'NNP'), ('some', 'DT'), ('controversial', 'JJ'), ('based', 'VBN'), ('edit', 'NN'), ('headlined', 'VBD'), ('Post', 'NNP'), ('criticized', 'VBD'), ('presenting', 'VBG'), ('the', 'DT'), ('and', 'CC'), ('suitable', 'JJ'), ('rank', 'NN'), ('biggest', 'JJS'), ('by', 'IN'), ('falsehoods', 'NNS'), ('Wikimedia', 'NNP'), ('42', 'CD'), ('Larry', 'NNP'), ('articles', 'NNS'), ('Wales', 'NNP'), ('magazine', 'NN'), ('manipulation', 'NN'), ('being', 'VBG'), ('free', 'JJ'), ('good', 'JJ'), ('one', 'NN'), (\"''\", \"''\"), ('similar', 'JJ'), ('was', 'VBD'), ('anyone', 'NN'), ('Sanger', 'NNP'), ('2018', 'CD'), (\"'s\", 'VBZ'), ('The', 'DT'), ('Overall', 'JJ'), ('wiki', 'NN'), ('coined', 'VBD'), ('truths', 'RP'), ('a', 'DT'), ('in', 'IN'), ('million', 'CD'), ('English-language', 'JJ'), ('launched', 'NNS'), ('of', 'IN'), ('money', 'NN'), ('It', 'PRP'), ('science', 'RB'), ('supported', 'VBD'), ('operates', 'VBZ'), ('290', 'CD'), ('nearly', 'RB'), ('most', 'JJS'), ('In', 'IN'), ('as', 'IN'), ('visitors', 'NNS'), ('vision', 'VBP'), ('organization', 'NN'), ('5,721,582', 'CD'), ('Wikipedia', 'NNP'), ('With', 'IN'), ('portmanteau', 'NN'), ('unique', 'JJ'), ('2014', 'CD'), ('donors', 'NNS'), ('quickly', 'RB'), ('other', 'JJ'), ('Facebook', 'NNP'), ('Initially', 'NNP'), ('views', 'VBZ'), ('exhibiting', 'VBG'), ('YouTube', 'NNP'), ('Time', 'NNP'), ('general', 'JJ'), ('had', 'VBD'), ('policy', 'NN'), ('non-profit', 'JJ'), ('news', 'NN'), ('web-based', 'JJ'), ('work', 'NN'), ('English', 'NNP'), ('more', 'JJR'), ('500', 'CD'), ('month', 'NN'), ('allowing', 'VBG'), ('popular', 'JJ'), ('40', 'CD'), ('best', 'JJS'), ('which', 'WDT'), ('testament', 'NN'), ('possibly', 'RB'), ('from', 'IN'), ('bias', 'NN'), ('largest', 'JJS'), ('would', 'MD'), ('2017', 'CD'), ('open-door', 'JJ'), ('15', 'CD'), ('owned', 'VBN'), ('has', 'VBZ'), ('half', 'NN'), ('been', 'VBN'), ('January', 'NNP'), ('made', 'VBD'), ('Internet', 'NNP'), ('receives', 'NNS'), ('page', 'VBP'), ('’', 'JJ'), ('Encyclopædia', 'NNP'), ('different', 'JJ'), ('review', 'NN'), ('‘', 'NN'), ('encyclopedias', 'VBP'), ('comprises', 'VBZ'), ('18', 'CD'), ('level', 'NN'), ('websites', 'NNS'), ('on', 'IN'), ('help', 'NN'), ('spin', 'VB'), ('an', 'DT'), ('found', 'JJ'), ('world', 'NN'), ('model', 'NN'), ('published', 'VBN'), ('languages', 'NNS'), ('versions', 'NNS'), ('accuracy', 'VBP'), ('2001', 'CD'), ('``', '``'), ('approached', 'VBN'), ('content', 'JJ'), ('February', 'NNP'), ('it', 'PRP'), ('openly', 'RB'), ('Alexa', 'NNP'), ('Nature', 'NNP'), ('Foundation', 'NNP'), ('were', 'VBD'), ('announced', 'VBN'), ('fake', 'JJ'), ('peer', 'NN'), ('stated', 'VBN'), ('editable', 'JJ'), ('encyclopedia', 'NN'), ('2005', 'CD'), ('its', 'PRP$'), ('to', 'TO'), ('reference', 'VB'), ('each', 'DT'), ('is', 'VBZ'), ('mixture', 'JJ'), ('systemic', 'JJ'), ('for', 'IN'), ('name', 'NN'), ('that', 'IN'), ('301', 'CD'), ('links', 'NNS'), ('multilingual', 'JJ'), ('developed', 'VBD'), ('billion', 'CD'), ('topics', 'NNS'), ('plan', 'NN'), ('Britannica', 'NNP'), ('comparing', 'VBG'), ('detect', 'JJ'), ('response', 'NN')]\n",
      "dict_keys(['NNP', 'NN', 'IN', 'JJ', 'NNS', 'DT', 'VBN', 'VBD', 'VBG', 'CC', 'JJS', 'CD', \"''\", 'VBZ', 'RP', 'PRP', 'RB', 'VBP', 'JJR', 'WDT', 'MD', 'VB', '``', 'PRP$', 'TO'])\n"
     ]
    },
    {
     "data": {
      "image/png": "[encoded data removed]",
      "text/plain": [
       "<Figure size 640x480 with 1 Axes>"
      ]
     },
     "metadata": {},
     "output_type": "display_data"
    }
   ],
   "source": [
    "# Plot the distribution of each POS Tag using a barplot\n",
    "postags = pos_tag(vocab)\n",
    "print(postags)\n",
    "\n",
    "# cfd = nltk.ConditionalFreqDist((a, b) for a, b in postags)\n",
    "postag_list = [tag for _, tag in postags]\n",
    "# word_list = [word for word, _ in postags]\n",
    "# cfd.tabulate(conditions=postag_list, samples=word_list)\n",
    "\n",
    "freq = nltk.FreqDist(postag_list)\n",
    "print(freq.keys())\n",
    "plt.bar(freq.keys(), freq.values())\n",
    "plt.show()\n"
   ]
  },
  {
   "cell_type": "code",
   "execution_count": 10,
   "metadata": {},
   "outputs": [
    {
     "name": "stdout",
     "output_type": "stream",
     "text": [
      "['Jimmy', 'cop', 'than', 'subject', 'reader', 'Washington', 'some', 'controversial', 'based', 'edit', 'headlined', 'Post', 'criticized', 'presenting', 'the', 'and', 'suitable', 'rank', 'biggest', 'by', 'falsehood', 'Wikimedia', '42', 'Larry', 'article', 'Wales', 'magazine', 'manipulation', 'being', 'free', 'good', 'one', \"''\", 'similar', 'wa', 'anyone', 'Sanger', '2018', \"'s\", 'The', 'Overall', 'wiki', 'coined', 'truth', 'a', 'in', 'million', 'English-language', 'launched', 'of', 'money', 'It', 'science', 'supported', 'operates', '290', 'nearly', 'most', 'In', 'a', 'visitor', 'vision', 'organization', '5,721,582', 'Wikipedia', 'With', 'portmanteau', 'unique', '2014', 'donor', ',', 'quickly', 'other', 'Facebook', 'Initially', 'view', 'exhibiting', 'YouTube', 'Time', 'general', 'had', 'policy', 'non-profit', 'news', 'web-based', 'work', 'English', 'more', '500', 'month', 'allowing', 'popular', '40', 'best', 'which', 'testament', 'possibly', 'from', 'bias', 'largest', 'would', '2017', 'open-door', '15', 'owned', 'ha', 'half', 'been', 'January', 'made', 'Internet', 'receives', 'page', '’', 'Encyclopædia', 'different', 'review', '‘', 'encyclopedia', 'comprises', '18', 'level', 'website', 'on', 'help', 'spin', 'an', 'found', 'world', 'model', '.', 'published', 'language', 'version', 'accuracy', '2001', '``', 'approached', 'content', 'February', 'it', 'openly', 'Alexa', 'Nature', 'Foundation', 'were', 'announced', 'fake', 'peer', 'stated', 'editable', 'encyclopedia', '2005', 'it', 'to', 'reference', 'each', 'is', 'mixture', 'systemic', 'for', 'name', 'that', '301', 'link', 'multilingual', 'developed', 'billion', 'topic', 'plan', 'Britannica', 'comparing', 'detect', 'response']\n",
      "The number of unique lemma available in the text: 174\n"
     ]
    }
   ],
   "source": [
    "# Determine the number of unique lemma available in the text\n",
    "lemmas = []\n",
    "lemmatizer = WordNetLemmatizer()\n",
    "for token in tokens:\n",
    "    lemmas.append(lemmatizer.lemmatize(token))\n",
    "print(lemmas)\n",
    "print(f\"The number of unique lemma available in the text: {len(lemmas)}\") "
   ]
  },
  {
   "cell_type": "code",
   "execution_count": 30,
   "metadata": {},
   "outputs": [
    {
     "name": "stdout",
     "output_type": "stream",
     "text": [
      "<FreqDist with 5 samples and 5 outcomes>\n"
     ]
    },
    {
     "data": {
      "image/png": "[encoded data removed]",
      "text/plain": [
       "<Figure size 640x480 with 1 Axes>"
      ]
     },
     "metadata": {},
     "output_type": "display_data"
    }
   ],
   "source": [
    "# Plot the distribution of stopwords used in the text using barplot\n",
    "stopwords_english = stopwords.words('english')\n",
    "stopword_tokens = []\n",
    "for token in tokens:\n",
    "    if token in stopwords_english:\n",
    "        stopword_tokens.append(token)\n",
    "stopword_tokens = stopword_tokens[:5]\n",
    "stopword_freq = nltk.FreqDist(stopword_tokens)\n",
    "print(stopword_freq)\n",
    "plt.bar(stopword_freq.keys(), stopword_freq.values(), width=0.1)\n",
    "plt.show()\n"
   ]
  },
  {
   "cell_type": "code",
   "execution_count": null,
   "metadata": {},
   "outputs": [],
   "source": []
  },
  {
   "cell_type": "code",
   "execution_count": null,
   "metadata": {},
   "outputs": [],
   "source": []
  }
 ],
 "metadata": {
  "kernelspec": {
   "display_name": "Python 3",
   "language": "python",
   "name": "python3"
  },
  "language_info": {
   "codemirror_mode": {
    "name": "ipython",
    "version": 3
   },
   "file_extension": ".py",
   "mimetype": "text/x-python",
   "name": "python",
   "nbconvert_exporter": "python",
   "pygments_lexer": "ipython3",
   "version": "3.11.9"
  }
 },
 "nbformat": 4,
 "nbformat_minor": 2
}
