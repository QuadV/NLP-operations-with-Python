{
 "cells": [
  {
   "cell_type": "markdown",
   "metadata": {},
   "source": [
    "Build a CRF model to identify the names of people/organization in a given test text string.\n",
    "\n",
    "Use following statements for training.\n",
    "\n",
    "Apple is my favorite fruit\n",
    "\n",
    "I bought an Apple iPhone recently.\n",
    "\n",
    "President Trump is visiting India next year\n",
    "\n",
    "It is rumored Newton discovered gravity because of an apple\n",
    "\n",
    "Gravity is a movie starring Sandra Bullock\n",
    "\n",
    "Sandra Bullock is not one of my favorite actors, but she is really good as an actor\n",
    "\n",
    "Tom Cruise is an actor i would like to host at my home for dinner\n",
    "\n",
    "This sentence has no names in it.\n",
    "\n",
    "I have always dreamt of being on a cruise\n",
    "\n",
    "This course is really fantastic.\n",
    "\n",
    "Predict the names of people/organization in the sentence \"Tom Cruise uses an Apple iPhone which was manufactured in India\""
   ]
  },
  {
   "cell_type": "code",
   "execution_count": null,
   "metadata": {
    "vscode": {
     "languageId": "plaintext"
    }
   },
   "outputs": [],
   "source": []
  }
 ],
 "metadata": {
  "language_info": {
   "name": "python"
  }
 },
 "nbformat": 4,
 "nbformat_minor": 2
}
