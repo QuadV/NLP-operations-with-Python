{
 "cells": [
  {
   "cell_type": "markdown",
   "metadata": {},
   "source": [
    "Load the provided text files into a corpus and determine how similar they are to each other after converting them to \n",
    "\n",
    "Document Term Matrix using bag of words model \n",
    "\n",
    "Document Term Matrix using TF-IDF model.\n",
    "\n",
    "Experiment with the following metrics to compute the similarity - cosine distance, euclidean distance, jaccard distance"
   ]
  },
  {
   "cell_type": "code",
   "execution_count": 16,
   "metadata": {},
   "outputs": [],
   "source": [
    "import nltk\n",
    "from nltk import *\n",
    "from nltk.corpus import brown\n",
    "from string import punctuation\n",
    "from nltk.corpus import stopwords\n",
    "from nltk.stem.wordnet import WordNetLemmatizer\n",
    "import matplotlib.pyplot as plt\n",
    "from sklearn.feature_extraction.text import CountVectorizer, TfidfVectorizer\n",
    "import pandas as pd\n",
    "from scipy.spatial.distance import cosine, euclidean, jaccard"
   ]
  },
  {
   "cell_type": "code",
   "execution_count": 10,
   "metadata": {},
   "outputs": [],
   "source": [
    "input_file = \"Nokia.txt\"\n",
    "with open(input_file, 'r', encoding='utf-8', errors='ignore') as f_in:\n",
    "    data1 = f_in.read()\n",
    "input_file = \"Samsung.txt\"\n",
    "with open(input_file, 'r', encoding='utf-8', errors='ignore') as f_in:\n",
    "    data2 = f_in.read()"
   ]
  },
  {
   "cell_type": "code",
   "execution_count": 11,
   "metadata": {},
   "outputs": [
    {
     "name": "stdout",
     "output_type": "stream",
     "text": [
      "   000  082  10  100  102  11  12  13  130  13th  ...  viewed  virtual  was  \\\n",
      "0    1    0   1    1    1   1   1   1    1     0  ...       1        1    3   \n",
      "1    0    1   1    0    0   1   1   1    0     1  ...       0        0    3   \n",
      "\n",
      "   with  withings  world  worldwide  would  year  york  \n",
      "0     4         1      1          2      0     1     1  \n",
      "1     0         0      5          1      1     0     0  \n",
      "\n",
      "[2 rows x 324 columns]\n"
     ]
    }
   ],
   "source": [
    "# document term matrix using BOW model\n",
    "countvectorizer = CountVectorizer()\n",
    "count_vectors = countvectorizer.fit_transform(raw_documents=[data1, data2])\n",
    "print(pd.DataFrame(data=count_vectors.toarray(), columns=countvectorizer.get_feature_names_out()))"
   ]
  },
  {
   "cell_type": "code",
   "execution_count": 14,
   "metadata": {},
   "outputs": [
    {
     "name": "stdout",
     "output_type": "stream",
     "text": [
      "        000     082        10       100       102        11        12  \\\n",
      "0  0.029563  0.0000  0.021035  0.029563  0.029563  0.021035  0.021035   \n",
      "1  0.000000  0.0321  0.022839  0.000000  0.000000  0.022839  0.022839   \n",
      "\n",
      "         13       130    13th  ...    viewed   virtual       was      with  \\\n",
      "0  0.021035  0.029563  0.0000  ...  0.029563  0.029563  0.063104  0.118254   \n",
      "1  0.022839  0.000000  0.0321  ...  0.000000  0.000000  0.068517  0.000000   \n",
      "\n",
      "   withings     world  worldwide   would      year      york  \n",
      "0  0.029563  0.021035   0.042069  0.0000  0.029563  0.029563  \n",
      "1  0.000000  0.114196   0.022839  0.0321  0.000000  0.000000  \n",
      "\n",
      "[2 rows x 324 columns]\n"
     ]
    }
   ],
   "source": [
    "tfidfvectorizer = TfidfVectorizer()\n",
    "tfidf_vectors = tfidfvectorizer.fit_transform([data1, data2])\n",
    "print(pd.DataFrame(data=tfidf_vectors.toarray(), columns=tfidfvectorizer.get_feature_names_out()))"
   ]
  },
  {
   "cell_type": "code",
   "execution_count": 17,
   "metadata": {},
   "outputs": [
    {
     "name": "stdout",
     "output_type": "stream",
     "text": [
      "Cosine: 0.4854778350222102\n",
      "Euclidean: 0.9853708286956847\n",
      "Jaccard: 1.0\n"
     ]
    }
   ],
   "source": [
    "data1 = tfidf_vectors.toarray()[0]\n",
    "data2 = tfidf_vectors.toarray()[1]\n",
    "\n",
    "print(f\"Cosine: {cosine(data1, data2)}\")\n",
    "print(f\"Euclidean: {euclidean(data1, data2)}\")\n",
    "print(f\"Jaccard: {jaccard(data1, data2)}\")"
   ]
  },
  {
   "cell_type": "code",
   "execution_count": null,
   "metadata": {},
   "outputs": [],
   "source": []
  }
 ],
 "metadata": {
  "kernelspec": {
   "display_name": "Python 3",
   "language": "python",
   "name": "python3"
  },
  "language_info": {
   "codemirror_mode": {
    "name": "ipython",
    "version": 3
   },
   "file_extension": ".py",
   "mimetype": "text/x-python",
   "name": "python",
   "nbconvert_exporter": "python",
   "pygments_lexer": "ipython3",
   "version": "3.11.9"
  }
 },
 "nbformat": 4,
 "nbformat_minor": 2
}
